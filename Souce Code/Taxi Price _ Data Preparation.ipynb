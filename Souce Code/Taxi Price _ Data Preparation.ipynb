{
 "cells": [
  {
   "cell_type": "code",
   "execution_count": 0,
   "metadata": {
    "application/vnd.databricks.v1+cell": {
     "cellMetadata": {
      "byteLimit": 2048000,
      "rowLimit": 10000
     },
     "inputWidgets": {},
     "nuid": "5ac0752f-f873-45f6-ba53-9703c47cbe5b",
     "showTitle": false,
     "title": ""
    }
   },
   "outputs": [],
   "source": [
    "from pyspark.sql import SparkSession\n",
    "from pyspark.sql.utils import AnalysisException\n",
    "import pyspark.sql.functions as F\n",
    "import pyspark.sql.types as T\n",
    "from pyspark.sql.types import DoubleType\n",
    "from pyspark.sql.functions import col, to_timestamp\n",
    "from pyspark.sql.functions import unix_timestamp, from_unixtime, round\n",
    "\n",
    "spark = SparkSession.builder \\\n",
    "    .appName(\"read_s3_parquet\") \\\n",
    "    .getOrCreate()\n",
    "\n",
    "\n",
    "storage_account_name = \"bia678\"\n",
    "storage_account_access_key = \"Okp/ALAV3dep7SNjenw9n8nx5Oojv2DFtOOZ3FRYzzpjIOviTSS3JmpjJAsMskG1/bqZFn6Id2HO+AStB0MDTQ==\"\n",
    "spark.conf.set(f\"fs.azure.account.key.{storage_account_name}.blob.core.windows.net\", storage_account_access_key)\n",
    "container_name = \"taxidataset\"\n",
    "\n",
    "dem = spark.read.csv(f\"wasbs://{container_name}@{storage_account_name}.blob.core.windows.net/pavan-bucket/dataset/demand_data/\",header=True)\n",
    "df = spark.read.parquet(f\"wasbs://{container_name}@{storage_account_name}.blob.core.windows.net/pavan-bucket/dataset/taxi-data/\")\n",
    "weather = spark.read.csv(f\"wasbs://{container_name}@{storage_account_name}.blob.core.windows.net/pavan-bucket/dataset/weather-data/weather.csv\",header=True, inferSchema=True)\n",
    "holiday=spark.read.csv(f\"wasbs://{container_name}@{storage_account_name}.blob.core.windows.net/pavan-bucket/dataset/holiday-data/export.csv\",header=True)\n",
    "location_coordinates=spark.read.csv (f\"wasbs://{container_name}@{storage_account_name}.blob.core.windows.net/pavan-bucket/location_data/location.csv\",header=True)"
   ]
  },
  {
   "cell_type": "markdown",
   "metadata": {
    "application/vnd.databricks.v1+cell": {
     "cellMetadata": {
      "byteLimit": 2048000,
      "rowLimit": 10000
     },
     "inputWidgets": {},
     "nuid": "d0d432f9-f992-49bb-a531-27a07d05b2a1",
     "showTitle": false,
     "title": ""
    }
   },
   "source": [
    "Joining the weather dataset"
   ]
  },
  {
   "cell_type": "code",
   "execution_count": 0,
   "metadata": {
    "application/vnd.databricks.v1+cell": {
     "cellMetadata": {
      "byteLimit": 2048000,
      "rowLimit": 10000
     },
     "inputWidgets": {},
     "nuid": "f0a820a1-4dc2-44bb-a34d-84b8fd465fa3",
     "showTitle": false,
     "title": ""
    }
   },
   "outputs": [],
   "source": [
    "weather_df=weather.select(F.col(\"datetime\"),F.col(\"temp\"))\n",
    "weather_df = weather_df.withColumn(\"hourly_interval\", F.date_trunc(\"hour\", weather_df.datetime))\n",
    "df = df.withColumn(\"hourly_interval\", F.date_trunc(\"hour\", df.tpep_pickup_datetime))\n",
    "joined_df = df.join(weather_df, \"hourly_interval\", \"left_outer\")\n",
    "joined_df = joined_df.drop(\"hourly_interval\",\"datetime\")"
   ]
  },
  {
   "cell_type": "markdown",
   "metadata": {
    "application/vnd.databricks.v1+cell": {
     "cellMetadata": {
      "byteLimit": 2048000,
      "rowLimit": 10000
     },
     "inputWidgets": {},
     "nuid": "d530e4c6-c239-43e4-8517-60779e21d340",
     "showTitle": false,
     "title": ""
    }
   },
   "source": [
    "Joining the Holiday Dataset"
   ]
  },
  {
   "cell_type": "code",
   "execution_count": 0,
   "metadata": {
    "application/vnd.databricks.v1+cell": {
     "cellMetadata": {
      "byteLimit": 2048000,
      "rowLimit": 10000
     },
     "inputWidgets": {},
     "nuid": "b729e54a-5659-4406-85b2-c01927ef5298",
     "showTitle": false,
     "title": ""
    }
   },
   "outputs": [],
   "source": [
    "holiday_data=holiday.select(\"date\",\"holidayName\")\n",
    "data = joined_df.join(holiday_data, joined_df.tpep_pickup_datetime == holiday_data.date, \"left_outer\")\n",
    "data=data.drop(\"date\")"
   ]
  },
  {
   "cell_type": "markdown",
   "metadata": {
    "application/vnd.databricks.v1+cell": {
     "cellMetadata": {
      "byteLimit": 2048000,
      "rowLimit": 10000
     },
     "inputWidgets": {},
     "nuid": "c02a81e2-960c-4143-8076-a0992d89b32a",
     "showTitle": false,
     "title": ""
    }
   },
   "source": [
    "Joining Coordinates"
   ]
  },
  {
   "cell_type": "code",
   "execution_count": 0,
   "metadata": {
    "application/vnd.databricks.v1+cell": {
     "cellMetadata": {
      "byteLimit": 2048000,
      "rowLimit": 10000
     },
     "inputWidgets": {},
     "nuid": "6bd1d107-5958-404d-a084-e63ffb43ef37",
     "showTitle": false,
     "title": ""
    }
   },
   "outputs": [],
   "source": [
    "location_coordinates= location_coordinates.select(\"LocationID\",\"Latitude\",\"Longitude\")\n",
    "data=data.join(location_coordinates,data.PULocationID==location_coordinates.LocationID)\n",
    "data = data.withColumn(\"Latitude\", F.col(\"Latitude\").cast(DoubleType()))\n",
    "data = data.withColumn(\"Longitude\", F.col(\"Longitude\").cast(DoubleType()))"
   ]
  },
  {
   "cell_type": "markdown",
   "metadata": {
    "application/vnd.databricks.v1+cell": {
     "cellMetadata": {
      "byteLimit": 2048000,
      "rowLimit": 10000
     },
     "inputWidgets": {},
     "nuid": "6cf9c029-87c2-48c3-9265-1e02de3cda5e",
     "showTitle": false,
     "title": ""
    }
   },
   "source": [
    "New feature \"isholiday\""
   ]
  },
  {
   "cell_type": "code",
   "execution_count": 0,
   "metadata": {
    "application/vnd.databricks.v1+cell": {
     "cellMetadata": {
      "byteLimit": 2048000,
      "rowLimit": 10000
     },
     "inputWidgets": {},
     "nuid": "0886447b-8cc9-4615-be40-d50688cd8ed6",
     "showTitle": false,
     "title": ""
    }
   },
   "outputs": [],
   "source": [
    "#holiday = 1 , no holiday = 0\n",
    "data = data.withColumn(\"isHoliday\", F.when(data.holidayName.isNotNull(), F.lit(1)).otherwise(F.lit(0)))\n",
    "data=data.drop(\"holidayName\")"
   ]
  },
  {
   "cell_type": "markdown",
   "metadata": {
    "application/vnd.databricks.v1+cell": {
     "cellMetadata": {},
     "inputWidgets": {},
     "nuid": "c91a897b-0652-4df0-ad5a-3b0d30541186",
     "showTitle": false,
     "title": ""
    }
   },
   "source": [
    "Modifying \"isHoliday\" to include weekends as holidays"
   ]
  },
  {
   "cell_type": "code",
   "execution_count": 0,
   "metadata": {
    "application/vnd.databricks.v1+cell": {
     "cellMetadata": {
      "byteLimit": 2048000,
      "rowLimit": 10000
     },
     "inputWidgets": {},
     "nuid": "a2b74f0c-f8de-4b72-99b4-34c66a1572bd",
     "showTitle": false,
     "title": ""
    }
   },
   "outputs": [],
   "source": [
    "data = data.withColumn('dayofweek', F.dayofweek(F.col('tpep_pickup_datetime')))\n",
    "# New column'isWeekend' Saturdays and Sundays are as 1, others as 0\n",
    "data = data.withColumn('isWeekend', F.when(F.col('dayofweek').isin([1, 7]), 1).otherwise(0))\n",
    "data = data.withColumn(\n",
    "    'isHoliday', \n",
    "    F.when(\n",
    "        (F.col('isHoliday') == 1) | (F.col('dayofweek').isin([7, 1])), 1\n",
    "    ).otherwise(0)\n",
    ")\n",
    "data=data.drop(\"dayofweek\",\"isWeekend\")"
   ]
  },
  {
   "cell_type": "markdown",
   "metadata": {
    "application/vnd.databricks.v1+cell": {
     "cellMetadata": {
      "byteLimit": 2048000,
      "rowLimit": 10000
     },
     "inputWidgets": {},
     "nuid": "cae8dced-d14d-4f4b-a7fa-bb37408ced9f",
     "showTitle": false,
     "title": ""
    }
   },
   "source": [
    "New Feature trip_duration"
   ]
  },
  {
   "cell_type": "code",
   "execution_count": 0,
   "metadata": {
    "application/vnd.databricks.v1+cell": {
     "cellMetadata": {
      "byteLimit": 2048000,
      "rowLimit": 10000
     },
     "inputWidgets": {},
     "nuid": "283e6e9f-f3d1-4d9d-a285-fc7a41275add",
     "showTitle": false,
     "title": ""
    }
   },
   "outputs": [],
   "source": [
    "data = data.withColumn(\n",
    "    \"trip_duration\",\n",
    "    F.round(\n",
    "        (F.unix_timestamp(\"tpep_dropoff_datetime\") - F.unix_timestamp(\"tpep_pickup_datetime\")) / 60,\n",
    "        2\n",
    "    )\n",
    ")"
   ]
  },
  {
   "cell_type": "markdown",
   "metadata": {
    "application/vnd.databricks.v1+cell": {
     "cellMetadata": {
      "byteLimit": 2048000,
      "rowLimit": 10000
     },
     "inputWidgets": {},
     "nuid": "73a2ac0c-4c1a-4bcd-9c08-6131eb23979c",
     "showTitle": false,
     "title": ""
    }
   },
   "source": [
    "New Feature speed_mph"
   ]
  },
  {
   "cell_type": "code",
   "execution_count": 0,
   "metadata": {
    "application/vnd.databricks.v1+cell": {
     "cellMetadata": {
      "byteLimit": 2048000,
      "rowLimit": 10000
     },
     "inputWidgets": {},
     "nuid": "818a49ff-74f4-4787-b360-4f8e0aab8944",
     "showTitle": false,
     "title": ""
    }
   },
   "outputs": [],
   "source": [
    "data = data.withColumn(\"trip_duration_hours\", (F.col(\"trip_duration\") / 60))\n",
    "data = data.withColumn(\"speed_mph\", F.round(F.col(\"trip_distance\") / F.col(\"trip_duration_hours\"),2))\n",
    "data=data.drop('trip_duration_hours')"
   ]
  },
  {
   "cell_type": "markdown",
   "metadata": {
    "application/vnd.databricks.v1+cell": {
     "cellMetadata": {
      "byteLimit": 2048000,
      "rowLimit": 10000
     },
     "inputWidgets": {},
     "nuid": "b3a44ec6-76cd-4e5b-bff7-a5bc52fb4c99",
     "showTitle": false,
     "title": ""
    }
   },
   "source": [
    "Splitting Date time to different Columns"
   ]
  },
  {
   "cell_type": "code",
   "execution_count": 0,
   "metadata": {
    "application/vnd.databricks.v1+cell": {
     "cellMetadata": {
      "byteLimit": 2048000,
      "rowLimit": 10000
     },
     "inputWidgets": {},
     "nuid": "a953215c-239d-45b6-8d98-1336f5ae2275",
     "showTitle": false,
     "title": ""
    }
   },
   "outputs": [],
   "source": [
    "data = data.withColumn(\"year\", F.year(\"tpep_pickup_datetime\")) \\\n",
    "    .withColumn(\"month\", F.month(\"tpep_pickup_datetime\")) \\\n",
    "    .withColumn(\"day\", F.dayofmonth(\"tpep_pickup_datetime\")) \\\n",
    "    .withColumn(\"hour\", F.hour(\"tpep_pickup_datetime\")) \\\n",
    "    .withColumn(\"minute\", F.minute(\"tpep_pickup_datetime\"))"
   ]
  },
  {
   "cell_type": "markdown",
   "metadata": {
    "application/vnd.databricks.v1+cell": {
     "cellMetadata": {
      "byteLimit": 2048000,
      "rowLimit": 10000
     },
     "inputWidgets": {},
     "nuid": "de3d17dd-10f4-4860-acd2-c7e5545e5d4a",
     "showTitle": false,
     "title": ""
    }
   },
   "source": [
    "Removing Tip Amount"
   ]
  },
  {
   "cell_type": "code",
   "execution_count": 0,
   "metadata": {
    "application/vnd.databricks.v1+cell": {
     "cellMetadata": {
      "byteLimit": 2048000,
      "rowLimit": 10000
     },
     "inputWidgets": {},
     "nuid": "04fb7344-2c99-478b-8e94-866b4cd852c5",
     "showTitle": false,
     "title": ""
    }
   },
   "outputs": [],
   "source": [
    "data = data.withColumn(\"total_amount\",(F.col(\"total_amount\")-F.col(\"tip_amount\")))"
   ]
  },
  {
   "cell_type": "markdown",
   "metadata": {
    "application/vnd.databricks.v1+cell": {
     "cellMetadata": {
      "byteLimit": 2048000,
      "rowLimit": 10000
     },
     "inputWidgets": {},
     "nuid": "6347d57a-cc8b-4a4e-bf36-52f0763fdec9",
     "showTitle": false,
     "title": ""
    }
   },
   "source": [
    "Adding Congestion surcharge to the total amount"
   ]
  },
  {
   "cell_type": "code",
   "execution_count": 0,
   "metadata": {
    "application/vnd.databricks.v1+cell": {
     "cellMetadata": {
      "byteLimit": 2048000,
      "rowLimit": 10000
     },
     "inputWidgets": {},
     "nuid": "fdd71b41-3d85-4ce8-a4e7-4b2bede13e32",
     "showTitle": false,
     "title": ""
    }
   },
   "outputs": [],
   "source": [
    "def adjust_total_amount(data):\n",
    "    sum_of_charges = col('fare_amount') + col('extra') + col('mta_tax') + \\\n",
    "                     col('tolls_amount') + col('improvement_surcharge') + \\\n",
    "                     col('congestion_surcharge')\n",
    "\n",
    "    data = data.withColumn(\n",
    "        'total_amount',\n",
    "        F.when((F.col('total_amount')) != sum_of_charges, sum_of_charges)\n",
    "        .otherwise(col('total_amount'))\n",
    "    )\n",
    "    \n",
    "    return data\n",
    "data = adjust_total_amount(data)"
   ]
  },
  {
   "cell_type": "markdown",
   "metadata": {
    "application/vnd.databricks.v1+cell": {
     "cellMetadata": {
      "byteLimit": 2048000,
      "rowLimit": 10000
     },
     "inputWidgets": {},
     "nuid": "9ac039af-3e9c-4a47-a19e-535e717bcd00",
     "showTitle": false,
     "title": ""
    }
   },
   "source": [
    "Adding airport fee to the total amount"
   ]
  },
  {
   "cell_type": "code",
   "execution_count": 0,
   "metadata": {
    "application/vnd.databricks.v1+cell": {
     "cellMetadata": {
      "byteLimit": 2048000,
      "rowLimit": 10000
     },
     "inputWidgets": {},
     "nuid": "3117d7cd-aa6f-480a-afc6-df11096b012b",
     "showTitle": false,
     "title": ""
    }
   },
   "outputs": [],
   "source": [
    "data = data.withColumn(\n",
    "    \"total_amount\",\n",
    "    F.round(F.col(\"total_amount\") + F.col(\"airport_fee\"), 2)\n",
    ")"
   ]
  },
  {
   "cell_type": "markdown",
   "metadata": {
    "application/vnd.databricks.v1+cell": {
     "cellMetadata": {
      "byteLimit": 2048000,
      "rowLimit": 10000
     },
     "inputWidgets": {},
     "nuid": "c8b4fdeb-1d1d-477e-93a4-bf605381a6ee",
     "showTitle": false,
     "title": ""
    }
   },
   "source": [
    "Outliers"
   ]
  },
  {
   "cell_type": "code",
   "execution_count": 0,
   "metadata": {
    "application/vnd.databricks.v1+cell": {
     "cellMetadata": {
      "byteLimit": 2048000,
      "rowLimit": 10000
     },
     "inputWidgets": {},
     "nuid": "9d42ddf6-3e6b-4f01-9c54-ec0b6a2b9ab7",
     "showTitle": false,
     "title": ""
    }
   },
   "outputs": [],
   "source": [
    "data = data.filter(\n",
    "    (F.col('total_amount') > 5) &\n",
    "    (F.col('total_amount') < 500) &\n",
    "    (F.col('trip_duration') > 2) &\n",
    "    (F.col('trip_duration') < 300) &\n",
    "    (F.col('trip_distance') > 0.25) &\n",
    "    (F.col('trip_distance') < 50) &\n",
    "    (F.col('year') <= 2023) &\n",
    "    (F.col('year') > 2021) &\n",
    "    (F.col('passenger_count') > 0) &\n",
    "    (F.col('passenger_count') < 7) &\n",
    "    (F.col('speed_mph') <= 55)\n",
    ")"
   ]
  },
  {
   "cell_type": "markdown",
   "metadata": {
    "application/vnd.databricks.v1+cell": {
     "cellMetadata": {
      "byteLimit": 2048000,
      "rowLimit": 10000
     },
     "inputWidgets": {},
     "nuid": "67a61c56-ed34-4829-b2a9-0d5c6eca4599",
     "showTitle": false,
     "title": ""
    }
   },
   "source": [
    "Dropping unnecessary columns from the data"
   ]
  },
  {
   "cell_type": "code",
   "execution_count": 0,
   "metadata": {
    "application/vnd.databricks.v1+cell": {
     "cellMetadata": {
      "byteLimit": 2048000,
      "rowLimit": 10000
     },
     "inputWidgets": {},
     "nuid": "ae6f99eb-7687-4b12-9a5f-f31f314f7737",
     "showTitle": false,
     "title": ""
    }
   },
   "outputs": [],
   "source": [
    "data=data.drop(\"tip_amount\",\"fare_amount\",'extra','mta_tax','tolls_amount','improvement_surcharge','congestion_surcharge',\"airport_fee\",\"RatecodeID\",\"store_and_fwd_flag\",\"LocationID\")"
   ]
  },
  {
   "cell_type": "code",
   "execution_count": 0,
   "metadata": {
    "application/vnd.databricks.v1+cell": {
     "cellMetadata": {
      "byteLimit": 2048000,
      "rowLimit": 10000
     },
     "inputWidgets": {},
     "nuid": "66e0e2a1-82a9-49e8-9c58-e3e62d3290dd",
     "showTitle": false,
     "title": ""
    }
   },
   "outputs": [],
   "source": [
    "data=data.na.drop()"
   ]
  },
  {
   "cell_type": "code",
   "execution_count": 0,
   "metadata": {
    "application/vnd.databricks.v1+cell": {
     "cellMetadata": {
      "byteLimit": 2048000,
      "rowLimit": 10000
     },
     "inputWidgets": {},
     "nuid": "3fff5caa-888e-4751-8a12-67a9dc762943",
     "showTitle": false,
     "title": ""
    }
   },
   "outputs": [],
   "source": [
    "display(data)"
   ]
  },
  {
   "cell_type": "markdown",
   "metadata": {
    "application/vnd.databricks.v1+cell": {
     "cellMetadata": {},
     "inputWidgets": {},
     "nuid": "b37771fd-d36a-435c-9053-1a7a458e6c83",
     "showTitle": false,
     "title": ""
    }
   },
   "source": [
    "Loading final dataset to Azure"
   ]
  },
  {
   "cell_type": "code",
   "execution_count": 0,
   "metadata": {
    "application/vnd.databricks.v1+cell": {
     "cellMetadata": {
      "byteLimit": 2048000,
      "rowLimit": 10000
     },
     "inputWidgets": {},
     "nuid": "9733f36f-9424-4bfa-b7bd-1fa3ddd24ba7",
     "showTitle": false,
     "title": ""
    }
   },
   "outputs": [],
   "source": [
    "# data=data.coalesce(1)\n",
    "# data.write.parquet(f\"wasbs://{container_name}@{storage_account_name}.blob.core.windows.net/pavan-bucket/final_dataset_1/\")"
   ]
  },
  {
   "cell_type": "markdown",
   "metadata": {
    "application/vnd.databricks.v1+cell": {
     "cellMetadata": {},
     "inputWidgets": {},
     "nuid": "b8b35f60-0cbc-4d08-b30b-42985c45f3a2",
     "showTitle": false,
     "title": ""
    }
   },
   "source": [
    "Creating demand dataset"
   ]
  },
  {
   "cell_type": "code",
   "execution_count": 0,
   "metadata": {
    "application/vnd.databricks.v1+cell": {
     "cellMetadata": {},
     "inputWidgets": {},
     "nuid": "d5f7cb49-68c5-4bb6-9cdd-3d9d86e2234c",
     "showTitle": false,
     "title": ""
    }
   },
   "outputs": [],
   "source": [
    "fin_df = df.select(F.col('tpep_pickup_datetime'), F.col('PULocationID'))\n",
    "fin_df = fin_df.withColumn(\"pickup_timestamp\", unix_timestamp(\"tpep_pickup_datetime\", \"yyyy-MM-dd HH:mm:ss\").cast(\"timestamp\"))\n",
    "fin_df = fin_df.withColumn(\"time_bins\", from_unixtime(((unix_timestamp(\"pickup_timestamp\") / 3600).cast(\"integer\") * 3600), \"yyyy-MM-dd HH:mm:ss\"))\n",
    "fin_df.drop(F.col('pickup_timestamp'))\n",
    "demand_df = fin_df.groupBy(F.col('time_bins'), F.col('PULocationID')).agg(F.count('time_bins').alias('no_of_pickups'))\n",
    "demand_df = demand_df.orderBy(F.col('time_bins'))"
   ]
  },
  {
   "cell_type": "markdown",
   "metadata": {
    "application/vnd.databricks.v1+cell": {
     "cellMetadata": {},
     "inputWidgets": {},
     "nuid": "6c947e40-9feb-414b-b8ce-fb39e9b8134c",
     "showTitle": false,
     "title": ""
    }
   },
   "source": [
    "Demand will be continued in \"demand\" notebook"
   ]
  }
 ],
 "metadata": {
  "application/vnd.databricks.v1+notebook": {
   "dashboards": [
    {
     "elements": [],
     "globalVars": {},
     "guid": "",
     "layoutOption": {
      "grid": true,
      "stack": true
     },
     "nuid": "f5b84f6c-d741-44e8-bce1-a8f7aa2697f1",
     "origId": 2887794378548731,
     "title": "Untitled",
     "version": "DashboardViewV1",
     "width": 1024
    }
   ],
   "language": "python",
   "notebookMetadata": {
    "pythonIndentUnit": 4
   },
   "notebookName": "Taxi Price _ Data Preparation",
   "widgets": {}
  }
 },
 "nbformat": 4,
 "nbformat_minor": 0
}
